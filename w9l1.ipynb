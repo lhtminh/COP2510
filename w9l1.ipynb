{
 "cells": [
  {
   "cell_type": "code",
   "execution_count": 1,
   "id": "4d24668c",
   "metadata": {},
   "outputs": [
    {
     "name": "stdout",
     "output_type": "stream",
     "text": [
      "[10, 20, 30, 40, 50]\n",
      "[5, 15, 25, 35, 45]\n",
      "[17, 27, 37, 42, 52]\n",
      "[25, 35, 45]\n"
     ]
    }
   ],
   "source": [
    "#list comprehension - create a new list from an existing one\n",
    "list1 = [10, 20, 30, 40, 50]\n",
    "list2 = [i - 5 for i in list1]\n",
    "print(list1); print(list2)\n",
    "list3 = [j + 7 if j <= 30 else j +2 for j in list1]#ternary(conditional statement)\n",
    "print(list3)\n",
    "list4 = [k + 15 for k in list1 if k <= 30 ]#an if statement\n",
    "print(list4)\n",
    "\n",
    "#Note dictionary, set, tuple coprehension also exist!"
   ]
  },
  {
   "cell_type": "code",
   "execution_count": 9,
   "id": "da69d80a",
   "metadata": {},
   "outputs": [
    {
     "name": "stdout",
     "output_type": "stream",
     "text": [
      "{'Alice': 'B', 'Bob': 'C', 'Cara': 'A', 'David': 'B', 'Eli': 'A'}\n"
     ]
    }
   ],
   "source": [
    "#Example of dictionary comprehension\n",
    "students = [(\"Alice\", 85),\n",
    "            (\"Bob\", 70),\n",
    "            (\"Cara\", 92),\n",
    "            (\"David\", 87),\n",
    "            (\"Eli\", 90)]\n",
    "studentGrades = {name: (\"A\" if score >= 90 else \"B\" if score >=80 else \"C\") for name, score in students}\n",
    "print(studentGrades)"
   ]
  },
  {
   "cell_type": "code",
   "execution_count": 11,
   "id": "42eeee86",
   "metadata": {},
   "outputs": [],
   "source": [
    "#--------File Input/Output---------\n",
    "#Write to a file\n",
    "with open(\"reminder.txt\", mode ='w') as outfile:\n",
    "    outfile.write(\"Hello\")\n",
    "\n",
    "    "
   ]
  },
  {
   "cell_type": "code",
   "execution_count": null,
   "id": "2b6976cc",
   "metadata": {},
   "outputs": [],
   "source": []
  }
 ],
 "metadata": {
  "kernelspec": {
   "display_name": "cop",
   "language": "python",
   "name": "python3"
  },
  "language_info": {
   "codemirror_mode": {
    "name": "ipython",
    "version": 3
   },
   "file_extension": ".py",
   "mimetype": "text/x-python",
   "name": "python",
   "nbconvert_exporter": "python",
   "pygments_lexer": "ipython3",
   "version": "3.11.13"
  }
 },
 "nbformat": 4,
 "nbformat_minor": 5
}
