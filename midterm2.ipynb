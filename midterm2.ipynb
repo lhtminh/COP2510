{
 "cells": [
  {
   "cell_type": "code",
   "execution_count": null,
   "id": "da1eeefd",
   "metadata": {},
   "outputs": [],
   "source": [
    "edge1 = input(\"Enter edge 1: \")\n",
    "edge2 = input(\"Enter edge 2: \")\n",
    "edge3 = input(\"Enter edge 3: \")\n",
    "if edge1 + edge2 > edge3 and edge1 + edge3 > edge2 and edge2 + edge3 > edge1:\n",
    "    print(\"The triangle is valid.\")\n",
    "else:\n",
    "    print(\"The triangle is not valid.\")\n",
    "# Function to check if the triangle is valid"
   ]
  },
  {
   "cell_type": "code",
   "execution_count": null,
   "id": "8ace1d30",
   "metadata": {},
   "outputs": [
    {
     "ename": "NameError",
     "evalue": "name 'i' is not defined",
     "output_type": "error",
     "traceback": [
      "\u001b[31m---------------------------------------------------------------------------\u001b[39m",
      "\u001b[31mNameError\u001b[39m                                 Traceback (most recent call last)",
      "\u001b[36mCell\u001b[39m\u001b[36m \u001b[39m\u001b[32mIn[2]\u001b[39m\u001b[32m, line 1\u001b[39m\n\u001b[32m----> \u001b[39m\u001b[32m1\u001b[39m \u001b[38;5;28;01mwhile\u001b[39;00m \u001b[43mi\u001b[49m <= \u001b[32m3\u001b[39m:\n\u001b[32m      2\u001b[39m     \u001b[38;5;28;01mwhile\u001b[39;00m j <= \u001b[32m3\u001b[39m:\n\u001b[32m      3\u001b[39m         \u001b[38;5;28mprint\u001b[39m(\u001b[33mf\u001b[39m\u001b[33m\"\u001b[39m\u001b[38;5;132;01m{\u001b[39;00m\u001b[32m1\u001b[39m\u001b[38;5;132;01m}\u001b[39;00m\u001b[33m\"\u001b[39m, end=\u001b[33m\"\u001b[39m\u001b[33m \u001b[39m\u001b[33m\"\u001b[39m)\n",
      "\u001b[31mNameError\u001b[39m: name 'i' is not defined"
     ]
    }
   ],
   "source": [
    "i = 0\n",
    "j = 0\n",
    "while i <= 3:\n",
    "    while j <= 3:\n",
    "        print(f\"{1}\", end=\" \")\n",
    "        print(f\"{j}\")\n",
    "    print()"
   ]
  },
  {
   "cell_type": "code",
   "execution_count": 1,
   "id": "ca345a34",
   "metadata": {},
   "outputs": [
    {
     "name": "stdout",
     "output_type": "stream",
     "text": [
      "Computer chose: scissors\n",
      "You win! Rock crushes scissors or crushes lizard.\n"
     ]
    }
   ],
   "source": [
    "import random\n",
    "results = [\"rock\", \"papper\", \"scissors\", \"lizard\", \"spock\"]\n",
    "my_result = input(\"Enter your choice (rock, paper, scissors, lizard, spock): \")\n",
    "my_result = my_result.lower()\n",
    "results = random.choice(results)\n",
    "scissors = \"scissors\"\n",
    "paper = \"paper\"\n",
    "rock = \"rock\"\n",
    "lizard = \"lizard\"\n",
    "spock = \"spock\"\n",
    "print(\"Computer chose:\", results)\n",
    "if my_result == results:\n",
    "    print(\"It's a tie!\")\n",
    "elif my_result == scissors:\n",
    "    if results == paper or results == lizard:\n",
    "        print(\"You win! Scissors cuts paper or decapitates lizard.\")\n",
    "    else:\n",
    "        print(\"You lose! Rock crushes scissors or Spock smashes scissors.\")\n",
    "elif my_result == paper:\n",
    "    if results == rock or results == spock:\n",
    "        print(\"You win! Paper covers rock or disproves Spock.\")\n",
    "    else:\n",
    "        print(\"You lose! Scissors cuts paper or lizard eats paper.\")\n",
    "elif my_result == rock:\n",
    "    if results == scissors or results == lizard:\n",
    "        print(\"You win! Rock crushes scissors or crushes lizard.\")\n",
    "    else:\n",
    "        print(\"You lose! Paper covers rock or Spock vaporizes rock.\")\n",
    "elif my_result == lizard:\n",
    "    if results == paper or results == spock:\n",
    "        print(\"You win! Lizard eats paper or poisons Spock.\")\n",
    "    else:\n",
    "        print(\"You lose! Rock crushes lizard or scissors decapitates lizard.\")\n",
    "if my_result == spock:\n",
    "    if results == rock or results == scissors:\n",
    "        print(\"You win! Spock vaporizes rock or smashes scissors.\")\n",
    "    else:\n",
    "        print(\"You lose! Paper disproves Spock or lizard poisons Spock.\")\n",
    "\n"
   ]
  },
  {
   "cell_type": "code",
   "execution_count": null,
   "id": "44218951",
   "metadata": {},
   "outputs": [],
   "source": [
    "vegetarian = input(\"Are you a vegetarian? (yes/no): \").lower()\n",
    "vegan = input(\"Are you a vegan? (yes/no): \").lower()\n",
    "gluten_free = input(\"Do you require a gluten-free meal? (yes/no): \").lower()\n",
    "if vegetarian == \"yes\" and vegan == \"yes\" and gluten_free == \"yes\":\n",
    "    print(\"Farmacy\\nWood Fired Pizza Wine Bar\")\n",
    "elif vegetarian == \"yes\" and vegan == \"yes\" and gluten_free == \"no\":\n",
    "    print(\"\")"
   ]
  }
 ],
 "metadata": {
  "kernelspec": {
   "display_name": "cop",
   "language": "python",
   "name": "python3"
  },
  "language_info": {
   "codemirror_mode": {
    "name": "ipython",
    "version": 3
   },
   "file_extension": ".py",
   "mimetype": "text/x-python",
   "name": "python",
   "nbconvert_exporter": "python",
   "pygments_lexer": "ipython3",
   "version": "3.11.13"
  }
 },
 "nbformat": 4,
 "nbformat_minor": 5
}
