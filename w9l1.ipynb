{
 "cells": [
  {
   "cell_type": "code",
   "execution_count": 1,
   "id": "4d24668c",
   "metadata": {},
   "outputs": [
    {
     "name": "stdout",
     "output_type": "stream",
     "text": [
      "[10, 20, 30, 40, 50]\n",
      "[5, 15, 25, 35, 45]\n"
     ]
    }
   ],
   "source": [
    "#list comprehension - create a new list from an existing one\n",
    "list1 = [10, 20, 30, 40, 50]\n",
    "list2 = [i - 5 for i in list1]\n",
    "print(list1); print(list2)\n"
   ]
  },
  {
   "cell_type": "code",
   "execution_count": 1,
   "id": "21b5b49b",
   "metadata": {},
   "outputs": [
    {
     "ename": "NameError",
     "evalue": "name 'list1' is not defined",
     "output_type": "error",
     "traceback": [
      "\u001b[31m---------------------------------------------------------------------------\u001b[39m",
      "\u001b[31mNameError\u001b[39m                                 Traceback (most recent call last)",
      "\u001b[36mCell\u001b[39m\u001b[36m \u001b[39m\u001b[32mIn[1]\u001b[39m\u001b[32m, line 2\u001b[39m\n\u001b[32m      1\u001b[39m \u001b[38;5;66;03m#list comprehension with ternary (conditional) statement\u001b[39;00m\n\u001b[32m----> \u001b[39m\u001b[32m2\u001b[39m list3 = [j + \u001b[32m7\u001b[39m \u001b[38;5;28;01mif\u001b[39;00m j <= \u001b[32m30\u001b[39m \u001b[38;5;28;01melse\u001b[39;00m j +\u001b[32m2\u001b[39m \u001b[38;5;28;01mfor\u001b[39;00m j \u001b[38;5;129;01min\u001b[39;00m \u001b[43mlist1\u001b[49m]\n\u001b[32m      3\u001b[39m \u001b[38;5;28mprint\u001b[39m(list3)\n",
      "\u001b[31mNameError\u001b[39m: name 'list1' is not defined"
     ]
    }
   ],
   "source": [
    "#list comprehension with ternary (conditional) statement\n",
    "list3 = [j + 7 if j <= 30 else j +2 for j in list1]\n",
    "print(list3)"
   ]
  },
  {
   "cell_type": "code",
   "execution_count": null,
   "id": "da69d80a",
   "metadata": {},
   "outputs": [],
   "source": []
  }
 ],
 "metadata": {
  "kernelspec": {
   "display_name": "cop",
   "language": "python",
   "name": "python3"
  },
  "language_info": {
   "codemirror_mode": {
    "name": "ipython",
    "version": 3
   },
   "file_extension": ".py",
   "mimetype": "text/x-python",
   "name": "python",
   "nbconvert_exporter": "python",
   "pygments_lexer": "ipython3",
   "version": "3.11.13"
  }
 },
 "nbformat": 4,
 "nbformat_minor": 5
}
