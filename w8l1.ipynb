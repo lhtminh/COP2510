{
 "cells": [
  {
   "cell_type": "code",
   "execution_count": null,
   "id": "593a1763",
   "metadata": {},
   "outputs": [
    {
     "name": "stdout",
     "output_type": "stream",
     "text": [
      "This statement is alwyas excuted.\n",
      "THis statement is always excuted when the module is run directly.\n"
     ]
    }
   ],
   "source": [
    "print(\"This statement is alwyas excuted.\")\n",
    "\n",
    "if __name__ == \"__main__\":\n",
    "    print(\"This statement is always excuted when the module is run directly.\")\n",
    "else:\n",
    "    print(\"This statement exucted when the module is imported\")\n",
    "\n",
    "    \n",
    "\n"
   ]
  },
  {
   "cell_type": "code",
   "execution_count": null,
   "id": "e87ce296",
   "metadata": {},
   "outputs": [
    {
     "name": "stdout",
     "output_type": "stream",
     "text": [
      "Hello from level 3!\n",
      "Hello from level 2!\n",
      "Hello from level 1!\n",
      "Goodbye!\n",
      "Back to level 1!\n",
      "Back to level 2!\n",
      "Back to level 3!\n"
     ]
    }
   ],
   "source": [
    "def greet(level):\n",
    "    if level == 0: #base case\n",
    "        print(\"Goodbye!\")\n",
    "    else:\n",
    "        print(f\"Hello from level {level}\")\n",
    "        greet(level - 1)\n",
    "        print(f\"Back to level {level}!\")\n",
    "greet(3)\n"
   ]
  },
  {
   "cell_type": "code",
   "execution_count": 7,
   "id": "e9c488c2",
   "metadata": {},
   "outputs": [
    {
     "name": "stdout",
     "output_type": "stream",
     "text": [
      "6\n"
     ]
    }
   ],
   "source": [
    "#recursion with return\n",
    "def recur_sum(n):\n",
    "    if n == 1:\n",
    "        return 1\n",
    "    else:\n",
    "        return n + recur_sum(n-1)\n",
    "print(recur_sum(3))"
   ]
  },
  {
   "cell_type": "code",
   "execution_count": null,
   "id": "736b1de4",
   "metadata": {},
   "outputs": [],
   "source": [
    "#annotation with lists\n",
    "def multiple(v: float, a: int) -> list[float]:\n",
    "    mult =[]\n",
    "    for i in range(1, a + 1):\n",
    "        mult.append(i * v)\n",
    "    return mult\n"
   ]
  },
  {
   "cell_type": "code",
   "execution_count": 1,
   "id": "46a7f020",
   "metadata": {},
   "outputs": [
    {
     "name": "stdout",
     "output_type": "stream",
     "text": [
      " 5 cubed 1 is 125\n"
     ]
    }
   ],
   "source": [
    "cube = lambda v: v ** 3\n",
    "print(f\" 5 cubed 1 is {cube(5)}\")"
   ]
  },
  {
   "cell_type": "code",
   "execution_count": 3,
   "id": "dfeafabc",
   "metadata": {},
   "outputs": [
    {
     "name": "stdout",
     "output_type": "stream",
     "text": [
      "5 cubed 1 is 125\n"
     ]
    }
   ],
   "source": [
    "def cubeval(val):\n",
    "    return val ** 3\n",
    "print (f\"5 cubed 1 is {cubeval(5)}\")"
   ]
  },
  {
   "cell_type": "code",
   "execution_count": 9,
   "id": "da85a5fa",
   "metadata": {},
   "outputs": [
    {
     "name": "stdout",
     "output_type": "stream",
     "text": [
      "Hello, Alex from Tampa!\n",
      "Hello, Maddy from Tampa!\n",
      "Hello, Guest from Tampa!\n",
      "Greetings, Sam from Omaha!\n",
      "Schinnel, San Fernado from Howdy!\n",
      "Howdy, Schinnel from San Fernado!\n"
     ]
    }
   ],
   "source": [
    "#default parameter\n",
    "def greet(name = \"Guest\", greeting = \"Hello\", location = \"Tampa\"):\n",
    "    print(f\"{greeting}, {name} from {location}!\")\n",
    "greet(\"Alex\", \"Hello\")\n",
    "greet(\"Maddy\") \n",
    "greet()\n",
    "greet(\"Sam\", \"Greetings\", \"Omaha\")\n",
    "\n",
    "#keyword arguments - make sure that right values go to correct parameters\n",
    "greet(\"San Fernado\", \"Schinnel\", \"Howdy\") #values out of order\n",
    "greet(location = \"San Fernado\", name = \"Schinnel\", greeting = \"Howdy\")"
   ]
  },
  {
   "cell_type": "code",
   "execution_count": 11,
   "id": "8398f1ef",
   "metadata": {},
   "outputs": [
    {
     "name": "stdout",
     "output_type": "stream",
     "text": [
      "1\n",
      "3\n",
      "6\n"
     ]
    }
   ],
   "source": [
    "\n",
    "#arbitrary argument - allows any number of arguments in function call\n",
    "def calsum (*numbers):\n",
    "    total = 0 \n",
    "    for n in numbers:\n",
    "        total += n\n",
    "    return total\n",
    "print(calsum(1))\n",
    "print(calsum(1, 2))\n",
    "print(calsum(1, 2, 3))\n"
   ]
  },
  {
   "cell_type": "code",
   "execution_count": null,
   "id": "0b276ad8",
   "metadata": {},
   "outputs": [],
   "source": []
  }
 ],
 "metadata": {
  "kernelspec": {
   "display_name": "cop",
   "language": "python",
   "name": "python3"
  },
  "language_info": {
   "codemirror_mode": {
    "name": "ipython",
    "version": 3
   },
   "file_extension": ".py",
   "mimetype": "text/x-python",
   "name": "python",
   "nbconvert_exporter": "python",
   "pygments_lexer": "ipython3",
   "version": "3.11.13"
  }
 },
 "nbformat": 4,
 "nbformat_minor": 5
}
