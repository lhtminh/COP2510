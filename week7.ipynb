{
 "cells": [
  {
   "cell_type": "code",
   "execution_count": 11,
   "id": "ab1da845",
   "metadata": {},
   "outputs": [
    {
     "name": "stdout",
     "output_type": "stream",
     "text": [
      "Protein Powder\n"
     ]
    }
   ],
   "source": [
    "from collections import namedtuple\n",
    "\n",
    "MenuItem = namedtuple(\"MenuItem\", [\"id\", \"name\", \"price\"])\n",
    "\n",
    "Menu = [MenuItem(1, \"Strawberry\", 1.25),\n",
    "        MenuItem(2, \"Banana\", 1.00),\n",
    "        MenuItem(3, \"Mango\", 1.50),\n",
    "        MenuItem(4, \"Pineapple\", 1.75),\n",
    "        MenuItem(5, \"Spinach\", 0.75),\n",
    "        MenuItem(6, \"Kale\", 0.80),\n",
    "        MenuItem(7, \"Almond Milk\", 0.50),\n",
    "        MenuItem(8, \"Coconut Water\", 0.60),\n",
    "        MenuItem(9, \"Protein Powder\", 1.00)]\n",
    "print(Menu[8].name)"
   ]
  },
  {
   "cell_type": "code",
   "execution_count": 12,
   "id": "95f7be4a",
   "metadata": {},
   "outputs": [
    {
     "name": "stdout",
     "output_type": "stream",
     "text": [
      "Welcom to the Smoothie Bar!\n"
     ]
    }
   ],
   "source": [
    "def main():\n",
    "    print(\"Welcom to the Smoothie Bar!\")\n",
    "main()\n"
   ]
  },
  {
   "cell_type": "code",
   "execution_count": 18,
   "id": "98bea0d6",
   "metadata": {},
   "outputs": [
    {
     "name": "stdout",
     "output_type": "stream",
     "text": [
      "\n",
      "Menu (press 0 if done):\n",
      "1.\tStrawberry    \t$1.25\n",
      "2.\tBanana    \t$1.00\n",
      "3.\tMango    \t$1.50\n",
      "4.\tPineapple    \t$1.75\n",
      "5.\tSpinach    \t$0.75\n",
      "6.\tKale    \t$0.80\n",
      "7.\tAlmond Milk    \t$0.50\n",
      "8.\tCoconut Water    \t$0.60\n",
      "9.\tProtein Powder    \t$1.00\n"
     ]
    }
   ],
   "source": [
    "def show_menu(menu):\n",
    "    print(\"\\nMenu (press 0 if done):\")\n",
    "    for item in menu:\n",
    "        print(f\"{item.id}.\\t{item.name}    \\t${item.price:.2f}\")\n",
    "show_menu(Menu)"
   ]
  },
  {
   "cell_type": "code",
   "execution_count": null,
   "id": "f473385a",
   "metadata": {},
   "outputs": [],
   "source": [
    "def pick_ing(m):\n",
    "    chosen = []\n",
    "    choice = -1 #sentinel value\n",
    "    while choice != 0:\n",
    "        if choice == 0:\n",
    "            if not chosen :\n",
    "                print(\"Add at least one ingredient!\")\n",
    "                choice = -1 #stay in the loop\n",
    "            else:\n",
    "                 break\n",
    "        else:\n",
    "            for i in m:\n",
    "                if i.id  == choice:\n",
    "                    item = i\n",
    "                    break\n",
    "\n",
    "    return chosen #Return a list of chosen ingredients"
   ]
  },
  {
   "cell_type": "code",
   "execution_count": 16,
   "id": "6bc598bd",
   "metadata": {},
   "outputs": [
    {
     "name": "stdout",
     "output_type": "stream",
     "text": [
      "Welcom to the Smoothie Bar!\n",
      "\n",
      "Menu (press 0 if done):\n",
      "1.\tStrawberry  \t\t$1.25\n",
      "2.\tBanana  \t\t$1.00\n",
      "3.\tMango  \t\t$1.50\n",
      "4.\tPineapple  \t\t$1.75\n",
      "5.\tSpinach  \t\t$0.75\n",
      "6.\tKale  \t\t$0.80\n",
      "7.\tAlmond Milk  \t\t$0.50\n",
      "8.\tCoconut Water  \t\t$0.60\n",
      "9.\tProtein Powder  \t\t$1.00\n"
     ]
    }
   ],
   "source": [
    "def main():\n",
    "    print(\"Welcom to the Smoothie Bar!\")\n",
    "    show_menu(Menu)\n",
    "main()"
   ]
  }
 ],
 "metadata": {
  "kernelspec": {
   "display_name": "cop",
   "language": "python",
   "name": "python3"
  },
  "language_info": {
   "codemirror_mode": {
    "name": "ipython",
    "version": 3
   },
   "file_extension": ".py",
   "mimetype": "text/x-python",
   "name": "python",
   "nbconvert_exporter": "python",
   "pygments_lexer": "ipython3",
   "version": "3.11.13"
  }
 },
 "nbformat": 4,
 "nbformat_minor": 5
}
