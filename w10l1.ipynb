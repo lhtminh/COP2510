{
 "cells": [
  {
   "cell_type": "code",
   "execution_count": null,
   "id": "28169057",
   "metadata": {},
   "outputs": [
    {
     "name": "stdout",
     "output_type": "stream",
     "text": [
      "F\n",
      "['French Bulldogs\\n', 'Retrievers (Labrador)  \\n', 'Retrievers (Golden) \\n', 'German Shepherd Dogs\\n', 'Poodles\\n', 'Bulldogs\\n', 'Beagles\\n', 'Rottweilers\\n', 'Pointers (German Shorthaired)\\n', 'Dachshunds\\n', 'Pembroke Welsh Corgis\\n', 'Australian Shepherds\\n', 'Yorkshire Terriers\\n', 'Boxers\\n', 'Cavalier King Charles Spaniels\\n', 'Doberman Pinschers\\n', 'Great Danes\\n', 'Miniature Schnauzers\\n', 'Siberian Huskies\\n', 'Bernese Mountain Dogs\\n', 'Cane Corso\\n', 'Shih Tzu\\n', 'Boston Terriers\\n', 'Pomeranians\\n', 'Havanese\\n', 'Spaniels (English Springer)\\n', 'Brittanys\\n', 'Shetland Sheepdogs\\n', 'Spaniels (Cocker)\\n', 'Miniature American Shepherds\\n', 'Border Collies\\n', 'Vizslas\\n', 'Pugs\\n', 'Basset Hounds\\n', 'Mastiffs\\n', 'Belgian Malinois\\n', 'Chihuahuas\\n', 'Collies\\n', 'Maltese\\n', 'Weimaraners\\n', 'Rhodesian Ridgebacks\\n', 'Shiba Inu\\n', 'Spaniels (English Cocker)\\n', 'Portuguese Water Dogs\\n', 'Newfoundlands\\n', 'West Highland White Terriers\\n', 'Bichons Frises\\n', 'Retrievers (Chesapeake Bay)\\n', 'Dalmatians\\n', 'Bloodhounds\\n', 'Australian Cattle Dogs\\n', 'Akitas\\n', 'St. Bernards\\n', 'Papillons\\n', 'Samoyeds\\n', 'Bullmastiffs\\n', 'Whippets\\n', 'Scottish Terriers\\n', 'Pointers (German Wirehaired)\\n', 'Wirehaired Pointing Griffons\\n', 'Bull Terriers\\n', 'Airedale Terriers\\n', 'Great Pyrenees\\n', 'Chinese Shar-Pei\\n', 'Giant Schnauzers\\n', 'Soft Coated Wheaten Terriers\\n', 'Cardigan Welsh Corgis\\n', 'Alaskan Malamutes\\n', 'Old English Sheepdogs\\n', 'Dogues de Bordeaux\\n', 'Setters (Irish)\\n', 'Russell Terriers\\n', 'Italian Greyhounds\\n', 'Cairn Terriers\\n', 'Staffordshire Bull Terriers\\n', 'Miniature Pinschers\\n', 'Chinese Crested\\n', 'Greater Swiss Mountain Dogs\\n', 'Lagotti Romagnoli\\n', 'Chow Chows\\n', 'American Staffordshire Terriers\\n', 'Biewer Terriers\\n', 'Coton de Tulear\\n', 'Lhasa Apsos\\n', 'Irish Wolfhounds\\n', 'Rat Terriers\\n', 'Basenjis\\n', 'Anatolian Shepherd Dogs\\n', 'Dogo Argentinos\\n', 'Spaniels (Boykin)\\n', 'Border Terriers\\n', 'Retrievers (Nova Scotia Duck Tolling)\\n', 'Retrievers (Flat-Coated)\\n', 'Pekingese\\n', 'Keeshonden\\n', 'Standard Schnauzers\\n', 'Brussels Griffons\\n', 'Setters (English)\\n', 'Fox Terriers (Wire)\\n', 'Norwegian Elkhounds\\n', 'Bouviers des Flandres\\n', 'Leonbergers\\n', 'Belgian Tervuren\\n', 'Borzois\\n', 'Japanese Chin\\n', 'Neapolitan Mastiffs\\n', 'Miniature Bull Terriers\\n', 'Spinoni Italiani\\n', 'Welsh Terriers\\n', 'Toy Fox Terriers\\n', 'Norwich Terriers\\n', 'Tibetan Terriers\\n', 'Setters (Gordon)\\n', 'Afghan Hounds\\n', 'Schipperkes\\n', 'Silky Terriers\\n', 'Parson Russell Terriers\\n', 'Boerboels\\n', 'Xoloitzcuintli\\n', 'Pointers\\n', 'Beaucerons\\n', 'American Eskimo Dogs\\n', 'Manchester Terriers\\n', 'Irish Terriers\\n', 'Tibetan Spaniels\\n', 'Spaniels (Welsh Springer)\\n', 'Black Russian Terriers\\n', 'Salukis\\n', 'Belgian Sheepdogs\\n', 'Norfolk Terriers\\n', 'Fox Terriers (Smooth)\\n', 'Greyhounds\\n', 'Bedlington Terriers\\n', 'Kerry Blue Terriers\\n', 'American Hairless Terriers\\n', 'Spaniels (Field)\\n', 'English Toy Spaniels\\n', 'Icelandic Sheepdogs\\n', 'Sealyham Terriers\\n', 'Bluetick Coonhounds\\n', 'Black and Tan Coonhounds\\n', 'Lakeland Terriers\\n', 'Bearded Collies\\n', 'Wirehaired Vizslas\\n', 'Spanish Water Dogs\\n', 'German Pinschers\\n', 'Tibetan Mastiffs\\n', 'Barbets\\n', 'Spaniels (Clumber)\\n', 'Briards\\n', 'Treeing Walker Coonhounds\\n', 'Australian Terriers\\n', 'Pumik\\n', 'Setters (Irish Red and White)\\n', 'Redbone Coonhounds\\n', 'Nederlandse Kooikerhondjes\\n', 'Lowchen\\n', 'Scottish Deerhounds\\n', 'Affenpinschers\\n', 'Swedish Vallhunds\\n', 'Petits Bassets Griffons Vendeens\\n', 'Portuguese Podengo Pequenos\\n', 'Berger Picards\\n', 'Pulik\\n', 'Spaniels (Irish Water)\\n', 'Spaniels (American Water)\\n', 'Retrievers (Curly-Coated)\\n', 'Finnish Lapphunds\\n', 'Kuvaszok\\n', 'Norwegian Buhunds\\n', 'Plott Hounds\\n', 'Chinooks\\n', 'Entlebucher Mountain Dogs\\n', 'Dandie Dinmont Terriers\\n', 'Glen of Imaal Terriers\\n', 'Pharaoh Hounds\\n', 'Spaniels (Sussex)\\n', 'Otterhounds\\n', 'Bergamasco Sheepdogs\\n', 'Polish Lowland Sheepdogs\\n', 'Skye Terriers\\n', 'Ibizan Hounds\\n', 'Cirnechi dell’Etna\\n', 'American English Coonhounds\\n', 'Azawakhs\\n', 'Komondorok\\n', 'Canaan Dogs\\n', 'Harriers\\n', 'Grand Basset Griffon Vendeens\\n', 'Cesky Terriers\\n', 'Finnish Spitz\\n', 'Pyrenean Shepherds\\n', 'Sloughis\\n', 'Belgian Laekenois\\n', 'American Foxhounds\\n', 'English Foxhounds\\n', 'Norwegian Lundehunds\\n']\n",
      "['French Bulldogs', 'Retrievers (Labrador)', 'Retrievers (Golden)', 'German Shepherd Dogs', 'Poodles', 'Bulldogs', 'Beagles', 'Rottweilers', 'Pointers (German Shorthaired)', 'Dachshunds', 'Pembroke Welsh Corgis', 'Australian Shepherds', 'Yorkshire Terriers', 'Boxers', 'Cavalier King Charles Spaniels', 'Doberman Pinschers', 'Great Danes', 'Miniature Schnauzers', 'Siberian Huskies', 'Bernese Mountain Dogs', 'Cane Corso', 'Shih Tzu', 'Boston Terriers', 'Pomeranians', 'Havanese', 'Spaniels (English Springer)', 'Brittanys', 'Shetland Sheepdogs', 'Spaniels (Cocker)', 'Miniature American Shepherds', 'Border Collies', 'Vizslas', 'Pugs', 'Basset Hounds', 'Mastiffs', 'Belgian Malinois', 'Chihuahuas', 'Collies', 'Maltese', 'Weimaraners', 'Rhodesian Ridgebacks', 'Shiba Inu', 'Spaniels (English Cocker)', 'Portuguese Water Dogs', 'Newfoundlands', 'West Highland White Terriers', 'Bichons Frises', 'Retrievers (Chesapeake Bay)', 'Dalmatians', 'Bloodhounds', 'Australian Cattle Dogs', 'Akitas', 'St. Bernards', 'Papillons', 'Samoyeds', 'Bullmastiffs', 'Whippets', 'Scottish Terriers', 'Pointers (German Wirehaired)', 'Wirehaired Pointing Griffons', 'Bull Terriers', 'Airedale Terriers', 'Great Pyrenees', 'Chinese Shar-Pei', 'Giant Schnauzers', 'Soft Coated Wheaten Terriers', 'Cardigan Welsh Corgis', 'Alaskan Malamutes', 'Old English Sheepdogs', 'Dogues de Bordeaux', 'Setters (Irish)', 'Russell Terriers', 'Italian Greyhounds', 'Cairn Terriers', 'Staffordshire Bull Terriers', 'Miniature Pinschers', 'Chinese Crested', 'Greater Swiss Mountain Dogs', 'Lagotti Romagnoli', 'Chow Chows', 'American Staffordshire Terriers', 'Biewer Terriers', 'Coton de Tulear', 'Lhasa Apsos', 'Irish Wolfhounds', 'Rat Terriers', 'Basenjis', 'Anatolian Shepherd Dogs', 'Dogo Argentinos', 'Spaniels (Boykin)', 'Border Terriers', 'Retrievers (Nova Scotia Duck Tolling)', 'Retrievers (Flat-Coated)', 'Pekingese', 'Keeshonden', 'Standard Schnauzers', 'Brussels Griffons', 'Setters (English)', 'Fox Terriers (Wire)', 'Norwegian Elkhounds', 'Bouviers des Flandres', 'Leonbergers', 'Belgian Tervuren', 'Borzois', 'Japanese Chin', 'Neapolitan Mastiffs', 'Miniature Bull Terriers', 'Spinoni Italiani', 'Welsh Terriers', 'Toy Fox Terriers', 'Norwich Terriers', 'Tibetan Terriers', 'Setters (Gordon)', 'Afghan Hounds', 'Schipperkes', 'Silky Terriers', 'Parson Russell Terriers', 'Boerboels', 'Xoloitzcuintli', 'Pointers', 'Beaucerons', 'American Eskimo Dogs', 'Manchester Terriers', 'Irish Terriers', 'Tibetan Spaniels', 'Spaniels (Welsh Springer)', 'Black Russian Terriers', 'Salukis', 'Belgian Sheepdogs', 'Norfolk Terriers', 'Fox Terriers (Smooth)', 'Greyhounds', 'Bedlington Terriers', 'Kerry Blue Terriers', 'American Hairless Terriers', 'Spaniels (Field)', 'English Toy Spaniels', 'Icelandic Sheepdogs', 'Sealyham Terriers', 'Bluetick Coonhounds', 'Black and Tan Coonhounds', 'Lakeland Terriers', 'Bearded Collies', 'Wirehaired Vizslas', 'Spanish Water Dogs', 'German Pinschers', 'Tibetan Mastiffs', 'Barbets', 'Spaniels (Clumber)', 'Briards', 'Treeing Walker Coonhounds', 'Australian Terriers', 'Pumik', 'Setters (Irish Red and White)', 'Redbone Coonhounds', 'Nederlandse Kooikerhondjes', 'Lowchen', 'Scottish Deerhounds', 'Affenpinschers', 'Swedish Vallhunds', 'Petits Bassets Griffons Vendeens', 'Portuguese Podengo Pequenos', 'Berger Picards', 'Pulik', 'Spaniels (Irish Water)', 'Spaniels (American Water)', 'Retrievers (Curly-Coated)', 'Finnish Lapphunds', 'Kuvaszok', 'Norwegian Buhunds', 'Plott Hounds', 'Chinooks', 'Entlebucher Mountain Dogs', 'Dandie Dinmont Terriers', 'Glen of Imaal Terriers', 'Pharaoh Hounds', 'Spaniels (Sussex)', 'Otterhounds', 'Bergamasco Sheepdogs', 'Polish Lowland Sheepdogs', 'Skye Terriers', 'Ibizan Hounds', 'Cirnechi dell’Etna', 'American English Coonhounds', 'Azawakhs', 'Komondorok', 'Canaan Dogs', 'Harriers', 'Grand Basset Griffon Vendeens', 'Cesky Terriers', 'Finnish Spitz', 'Pyrenean Shepherds', 'Sloughis', 'Belgian Laekenois', 'American Foxhounds', 'English Foxhounds', 'Norwegian Lundehunds']\n"
     ]
    }
   ],
   "source": [
    "#File input\n",
    "dobj = open(\"popularbreedsUS.txt\", \"r\")\n",
    "breeds = dobj.read()\n",
    "dobj.close()\n",
    "print(breeds[0])\n",
    "\n",
    "# with version\n",
    "with open(\"popularbreedsUS.txt\", 'r') as d2:\n",
    "    doglist = d2.readlines()\n",
    "print(doglist)\n",
    "\n",
    "#clean up the list\n",
    "doglist2 = [d.rstrip() for d in doglist]\n",
    "print(doglist2)\n",
    "\n",
    "#read one line\n",
    "with open(\"popularbreedsUS.txt\") as d3:\n",
    "    dog = d3.readline()\n",
    "print(dog)\n",
    "\n",
    "#read the contents using readline\n",
    "with open(\"popularbreedsUS.txt\") as d3:\n",
    "    while True:\n",
    "        dog = d3.readline()\n",
    "        print(dog)\n",
    "        if not dog:\n",
    "            break"
   ]
  },
  {
   "cell_type": "code",
   "execution_count": null,
   "id": "e3b0d425",
   "metadata": {},
   "outputs": [],
   "source": []
  }
 ],
 "metadata": {
  "kernelspec": {
   "display_name": "cop",
   "language": "python",
   "name": "python3"
  },
  "language_info": {
   "codemirror_mode": {
    "name": "ipython",
    "version": 3
   },
   "file_extension": ".py",
   "mimetype": "text/x-python",
   "name": "python",
   "nbconvert_exporter": "python",
   "pygments_lexer": "ipython3",
   "version": "3.11.13"
  }
 },
 "nbformat": 4,
 "nbformat_minor": 5
}
