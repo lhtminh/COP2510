{
 "cells": [
  {
   "cell_type": "code",
   "execution_count": 2,
   "id": "e3e8fe06",
   "metadata": {},
   "outputs": [
    {
     "name": "stdout",
     "output_type": "stream",
     "text": [
      "10| 15| 25| 30| 35| 40| "
     ]
    }
   ],
   "source": [
    "for g in range(10, 70, 5):\n",
    "    if g // 5 == 4:\n",
    "        continue\n",
    "    if g // 9 == 5:\n",
    "        break\n",
    "    print(g, end = '| ')\n",
    "else:\n",
    "    print(g - 6, end = '? ')\n",
    "\n"
   ]
  },
  {
   "cell_type": "markdown",
   "id": "1aa65bbb",
   "metadata": {},
   "source": [
    "2. Write a statement that prints an f-string containing a randomly generated number\n",
    "between 1.4 (inclusive) and 8.9 (may be inclusive after rounding) and formats the number to\n",
    "5 decimal places. (Assume that the entire random module is already imported. Do NOT store\n",
    "the value in a variable beforehand!)\n"
   ]
  },
  {
   "cell_type": "code",
   "execution_count": null,
   "id": "e14ce442",
   "metadata": {},
   "outputs": [
    {
     "name": "stdout",
     "output_type": "stream",
     "text": [
      "3.96891\n"
     ]
    }
   ],
   "source": [
    "import random\n",
    "print(f\"{random.uniform(1.4, 8.9):.5f}\")\n",
    "# uniform: inclusive of both endpoints, float"
   ]
  },
  {
   "cell_type": "code",
   "execution_count": 8,
   "id": "29b86100",
   "metadata": {},
   "outputs": [
    {
     "name": "stdout",
     "output_type": "stream",
     "text": [
      "The variables have the same value\n"
     ]
    }
   ],
   "source": [
    "a = 250; b = a * 2; c = 500; d = b\n",
    "if d is c: #is is for identity\n",
    "    print('The variables are the same object')\n",
    "if c == b:\n",
    "    print('The variables have the same value')\n"
   ]
  },
  {
   "cell_type": "code",
   "execution_count": null,
   "id": "3fca6cf1",
   "metadata": {},
   "outputs": [
    {
     "name": "stdout",
     "output_type": "stream",
     "text": [
      "Keep going!!\n",
      "\n",
      "Your hardest times often lead to \n",
      "the greatest moments of your life.\n",
      "Tough situations build strong people in the end."
     ]
    }
   ],
   "source": [
    "print(\"Keep going!!\\n\\nYour hardest times often lead to \")\n",
    "print(\"the greatest moments of your life.\\nTough situations build \\\n",
    "strong people in the end\", end = '.') \n",
    "# \\ is for line continuation"
   ]
  },
  {
   "cell_type": "markdown",
   "id": "2093ece9",
   "metadata": {},
   "source": [
    "7. Write an if else statement that prints Coupon code applied! if the value in\n",
    "couponcode is equal to COP2510, and prints Invalid code entered. otherwise. The\n",
    "condition for the if else statement must include an input statement that uses the walrus\n",
    "operator to read the inputted string into couponcode"
   ]
  },
  {
   "cell_type": "code",
   "execution_count": 12,
   "id": "511d9c4c",
   "metadata": {},
   "outputs": [
    {
     "name": "stdout",
     "output_type": "stream",
     "text": [
      "Coupon code applied!\n"
     ]
    }
   ],
   "source": [
    "if (couponcode := input(\"Enter coupon code: \")) == \"COP2510\":\n",
    "    print(\"Coupon code applied!\")\n",
    "else:\n",
    "    print(\"Invalid code entered.\")"
   ]
  },
  {
   "cell_type": "markdown",
   "id": "7da90f9e",
   "metadata": {},
   "source": [
    "Coulomb’s law is defined as:\n",
    "𝐹 = 𝑘 𝑄1𝑄2/r^2\n",
    "where F represents force, k represents Coulomb’s constant, Q1 and Q2 represent two charges,\n",
    "and r represents the distance between the charges.\n",
    "Define a function that accepts the two charges and the distance and returns the force. You\n",
    "may assume that k is defined globally and can be referenced within the function as needed.\n",
    "Do NOT use the math module.\n"
   ]
  },
  {
   "cell_type": "code",
   "execution_count": 13,
   "id": "fb838b1b",
   "metadata": {},
   "outputs": [
    {
     "name": "stdout",
     "output_type": "stream",
     "text": [
      "The force between the charges is: k0.2222222222222222 Newtons\n"
     ]
    }
   ],
   "source": [
    "q1 = float(input(\"Enter charge 1 (in Coulombs): \"))\n",
    "q2 = float(input(\"Enter charge 2 (in Coulombs): \"))\n",
    "r = float(input(\"Enter distance between charges (in meters): \"))\n",
    "force = (q1 * q2) / (r ** 2) \n",
    "print(f\"The force between the charges is: k{force} Newtons\")"
   ]
  },
  {
   "cell_type": "markdown",
   "id": "bc9adb9e",
   "metadata": {},
   "source": [
    "Write an if – elif –else statement that assigns a string to a variable called vip based\n",
    "on the criteria (listed below) for another variable called nights. (Assume nights and vip\n",
    "were already initialized. All limits are inclusive.)\n",
    "• If the nights are greater than or equal to 20 then the vip is 'Diamond'\n",
    "• Otherwise, if the nights are between 13 and 19 then the vip is 'Platinum'\n",
    "• Otherwise, if the nights are between 8 and 12 then the vip is 'Gold'\n",
    "• Otherwise, if the nights are between 4 and 7 then the vip is 'Silver'\n",
    "• Otherwise, the vip is 'Bronze'"
   ]
  },
  {
   "cell_type": "code",
   "execution_count": null,
   "id": "f7211912",
   "metadata": {},
   "outputs": [],
   "source": [
    "nights = 33\n",
    "if nights >= 20:\n",
    "    vip = Diamond\n",
    "elif nights >= 13 AND nights <= 19:\n",
    "    vip = Platinum\n",
    "elif nights >= 7 AND nights <= 12:\n",
    "    vip = Gold\n",
    "elif nights >= 3 AND nights <= 6:\n",
    "    vip = Silver\n",
    "else:\n",
    "    vip = Bronze\n",
    "    "
   ]
  },
  {
   "cell_type": "markdown",
   "id": "72675cd0",
   "metadata": {},
   "source": [
    " Write a for loop to create an octagon (eight-sided polygon) using python’s turtle\n",
    "module. The length of each side should be eighty pixels, and the turtle should turn forty-five\n",
    "degrees to create each side. Create any variables needed. (You may assume that the entire\n",
    "turtle module was already imported.)"
   ]
  },
  {
   "cell_type": "code",
   "execution_count": null,
   "id": "98e67a1c",
   "metadata": {},
   "outputs": [
    {
     "ename": "NameError",
     "evalue": "name 'forward' is not defined",
     "output_type": "error",
     "traceback": [
      "\u001b[31m---------------------------------------------------------------------------\u001b[39m",
      "\u001b[31mNameError\u001b[39m                                 Traceback (most recent call last)",
      "\u001b[36mCell\u001b[39m\u001b[36m \u001b[39m\u001b[32mIn[15]\u001b[39m\u001b[32m, line 6\u001b[39m\n\u001b[32m      4\u001b[39m side_length = \u001b[32m80\u001b[39m\n\u001b[32m      5\u001b[39m \u001b[38;5;28;01mfor\u001b[39;00m _ \u001b[38;5;129;01min\u001b[39;00m \u001b[38;5;28mrange\u001b[39m(side):\n\u001b[32m----> \u001b[39m\u001b[32m6\u001b[39m     \u001b[43mforward\u001b[49m(side_length)\n\u001b[32m      7\u001b[39m     right(\u001b[32m45\u001b[39m)\n",
      "\u001b[31mNameError\u001b[39m: name 'forward' is not defined"
     ]
    }
   ],
   "source": [
    "import turtle\n",
    "side = 8\n",
    "\n",
    "side_length = 80\n",
    "for _ in range(side):\n",
    "    forward(side_length)\n",
    "    right(45)\n"
   ]
  },
  {
   "cell_type": "code",
   "execution_count": 1,
   "id": "65d2004f",
   "metadata": {},
   "outputs": [
    {
     "name": "stdout",
     "output_type": "stream",
     "text": [
      "meh\n"
     ]
    }
   ],
   "source": [
    "words = \"I'm bored with it all\"\n",
    "sub = words[2] + words[7]+ words[-8]\n",
    "print(sub)"
   ]
  },
  {
   "cell_type": "code",
   "execution_count": 7,
   "id": "a604e9fc",
   "metadata": {},
   "outputs": [
    {
     "name": "stdout",
     "output_type": "stream",
     "text": [
      "1 1\n",
      "1 2\n",
      "1 3\n",
      "2 1\n",
      "2 2\n",
      "2 3\n",
      "3 1\n",
      "3 2\n",
      "3 3\n"
     ]
    }
   ],
   "source": [
    "for i in range(1, 4):\n",
    "    for j in range(1, 4):\n",
    "        print(f\"{i}\", end = \" \")\n",
    "        print(f\"{j}\")\n",
    "        \n",
    "    \n",
    "    \n",
    "    "
   ]
  },
  {
   "cell_type": "code",
   "execution_count": null,
   "id": "96be4e43",
   "metadata": {},
   "outputs": [],
   "source": []
  }
 ],
 "metadata": {
  "kernelspec": {
   "display_name": "cop",
   "language": "python",
   "name": "python3"
  },
  "language_info": {
   "codemirror_mode": {
    "name": "ipython",
    "version": 3
   },
   "file_extension": ".py",
   "mimetype": "text/x-python",
   "name": "python",
   "nbconvert_exporter": "python",
   "pygments_lexer": "ipython3",
   "version": "3.11.13"
  }
 },
 "nbformat": 4,
 "nbformat_minor": 5
}
